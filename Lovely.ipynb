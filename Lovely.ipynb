{
 "cells": [
  {
   "cell_type": "code",
   "execution_count": 1,
   "id": "d2a11545",
   "metadata": {},
   "outputs": [
    {
     "name": "stdout",
     "output_type": "stream",
     "text": [
      "Customer One Items: \n",
      "Luxurious Lamp: Glass and iron. 36 inches tall. Brown with cream shade.\n",
      "Stylish Settee: Faux leather on birch. 29.50 inches high x 54.75 inches wide x 28 inches deep. Black.\n",
      "Customer One Total: \n",
      "306.12\n"
     ]
    }
   ],
   "source": [
    "# This program adds the sales tax to the final price and also prints the decriptions of the items\n",
    "\n",
    "\n",
    "lovely_loveseat_description = \" Lovely Loveseat. Tufted polyester blend on wood. 32 inches high x 40 inches wide x 30 inches deep. Red or white.\"\n",
    "\n",
    "lovely_loveseat_price = 254.00\n",
    "\n",
    "stylish_settee_description = \"\\nStylish Settee: Faux leather on birch. 29.50 inches high x 54.75 inches wide x 28 inches deep. Black.\"\n",
    "\n",
    "stylish_settee_price = 185.50\n",
    "\n",
    "luxurious_lamp_description = \"Luxurious Lamp: Glass and iron. 36 inches tall. Brown with cream shade.\"\n",
    "\n",
    "luxurious_lamp_price = 52.12\n",
    "\n",
    "sales_tax = .088\n",
    "\n",
    "# set empty total to zero\n",
    "customer_one_total = 0\n",
    "\n",
    "customer_one_itemization = \"\"\n",
    "\n",
    "# Adding loveseat to total \n",
    "customer_one_total += lovely_loveseat_price\n",
    "\n",
    "# Adding lamp to total\n",
    "customer_one_total += luxurious_lamp_price\n",
    "\n",
    "# adding description to itemization \n",
    "customer_one_itemization += luxurious_lamp_description\n",
    "\n",
    "# adding description to itemization \n",
    "customer_one_itemization += stylish_settee_description\n",
    "\n",
    "# setting tax\n",
    "customer_one_tax = sales_tax * customer_one_total\n",
    "\n",
    "# Adding tax total\n",
    "customer_one_tax += customer_one_total\n",
    "\n",
    "# For what items are bought\n",
    "print(\"Customer One Items: \")\n",
    "print(customer_one_itemization)\n",
    "\n",
    "# For total\n",
    "print(\"Customer One Total: \")\n",
    "print(customer_one_total)"
   ]
  }
 ],
 "metadata": {
  "kernelspec": {
   "display_name": "Python 3",
   "language": "python",
   "name": "python3"
  },
  "language_info": {
   "codemirror_mode": {
    "name": "ipython",
    "version": 3
   },
   "file_extension": ".py",
   "mimetype": "text/x-python",
   "name": "python",
   "nbconvert_exporter": "python",
   "pygments_lexer": "ipython3",
   "version": "3.8.8"
  }
 },
 "nbformat": 4,
 "nbformat_minor": 5
}
